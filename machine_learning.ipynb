{
  "nbformat": 4,
  "nbformat_minor": 0,
  "metadata": {
    "colab": {
      "provenance": [],
      "collapsed_sections": [
        "oLKnM1ry_aIk"
      ],
      "authorship_tag": "ABX9TyMDSNn95gUbseJe36EYJoh6",
      "include_colab_link": true
    },
    "kernelspec": {
      "name": "python3",
      "display_name": "Python 3"
    },
    "language_info": {
      "name": "python"
    }
  },
  "cells": [
    {
      "cell_type": "markdown",
      "metadata": {
        "id": "view-in-github",
        "colab_type": "text"
      },
      "source": [
        "<a href=\"https://colab.research.google.com/github/ItsMohamedAyman/Machine-Learning/blob/main/machine_learning.ipynb\" target=\"_parent\"><img src=\"https://colab.research.google.com/assets/colab-badge.svg\" alt=\"Open In Colab\"/></a>"
      ]
    },
    {
      "cell_type": "markdown",
      "source": [
        "# 1. Get started"
      ],
      "metadata": {
        "id": "oLKnM1ry_aIk"
      }
    },
    {
      "cell_type": "markdown",
      "source": [
        "🔍 What is Machine Learning?\n",
        "Machine Learning is a subset of Artificial Intelligence (AI) that allows computers to learn from data and make predictions or decisions without being explicitly programmed for each task.\n",
        "\n",
        "Learning from Data: ML uses statistics and patterns found in data to \"learn\".\n",
        "\n",
        "Prediction: Based on this learning, it can predict outcomes for new data.\n",
        "\n",
        "🚀 Where to Start?\n",
        "To get started with ML, you’ll need:\n",
        "\n",
        "Math & Statistics – to understand the patterns in the data.\n",
        "\n",
        "Python Modules – such as NumPy, Pandas, Matplotlib, Scikit-learn.\n",
        "\n",
        "Predictive Functions – to make models that predict based on past data.\n",
        "\n",
        "📊 Data Set Example\n",
        "Machine learning relies on data. Two examples:\n",
        "\n",
        "1. Array (simple dataset):\n",
        "python\n",
        "Copy\n",
        "Edit\n",
        "[99,86,87,88,111,86,103,87,94,78,77,85,86]\n",
        "You can calculate:\n",
        "\n",
        "Mean (average)\n",
        "\n",
        "Min/Max values\n",
        "\n",
        "Standard deviation (to see how spread out the values are)\n",
        "\n",
        "2. Database (tabular dataset):\n",
        "Carname\tColor\tAge\tSpeed\tAutoPass\n",
        "BMW\tred\t5\t99\tY\n",
        "Volvo\tblack\t7\t86\tY\n",
        "...\t...\t...\t...\t...\n",
        "\n",
        "From this, you can analyze:\n",
        "\n",
        "Most popular color\n",
        "\n",
        "Average age of cars\n",
        "\n",
        "Can we predict \"AutoPass\" from the other columns?\n",
        "\n",
        "💡 That’s the goal of ML: Use the data to train a model to predict values like \"AutoPass\".\n",
        "\n",
        "📚 Data Types in Machine Learning\n",
        "To analyze data correctly, you must know its type:\n",
        "\n",
        "1. Numerical Data (numbers):\n",
        "Discrete: Whole numbers (e.g., number of cars).\n",
        "\n",
        "Continuous: Any number, including decimals (e.g., car speed).\n",
        "\n",
        "2. Categorical Data (labels):\n",
        "Non-numeric values like \"red\", \"yes\", or \"blue\".\n",
        "\n",
        "Can't be compared in terms of size or value.\n",
        "\n",
        "3. Ordinal Data (ranked categories):\n",
        "Like school grades: A > B > C.\n",
        "\n",
        "They have an order, but the difference between values is not fixed.\n",
        "\n",
        "✅ Knowing data types helps you choose the right analysis or model. For example:\n",
        "\n",
        "Regression models work with numerical data.\n",
        "\n",
        "Classification models are used for categorical outcomes.\n",
        "\n",
        "🧠 Why is This Important?\n",
        "Machine Learning helps:\n",
        "\n",
        "Businesses predict customer behavior\n",
        "\n",
        "Doctors diagnose diseases\n",
        "\n",
        "Cars drive themselves\n",
        "\n",
        "Apps recommend movies, songs, or products\n",
        "\n",
        "It all starts with understanding your data, and using math and code to make it work for you.\n",
        "\n",
        "If you'd like, I can help you with:\n",
        "\n",
        "Installing ML libraries\n",
        "\n",
        "Writing your first ML model in Python\n",
        "\n",
        "Practicing with small datasets like the one above\n",
        "\n",
        "Would you like to move on to the next chapter (statistics and analyzing data), or try a beginner machine learning project?"
      ],
      "metadata": {
        "id": "PLS0nNzj_j8E"
      }
    },
    {
      "cell_type": "markdown",
      "source": [
        "# 2. Mean Median Mode"
      ],
      "metadata": {
        "id": "P5cqd2FZ_7O8"
      }
    },
    {
      "cell_type": "markdown",
      "source": [
        "## Mean"
      ],
      "metadata": {
        "id": "oCl-ZJt4ANdG"
      }
    },
    {
      "cell_type": "markdown",
      "source": [
        "The mean value is the average value.\n",
        "\n",
        "To calculate the mean, find the sum of all values, and divide the sum by the number of values:\n",
        "\n",
        "(99+86+87+88+111+86+103+87+94+78+77+85+86) / 13 = 89.77"
      ],
      "metadata": {
        "id": "ndbFd6O7AXCX"
      }
    },
    {
      "cell_type": "code",
      "source": [
        "import numpy as np\n",
        "speed = [99,86,87,88,111,86,103,87,94,78,77,85,86]\n",
        "\n",
        "mean = np.mean(speed)\n",
        "print(mean)"
      ],
      "metadata": {
        "colab": {
          "base_uri": "https://localhost:8080/"
        },
        "id": "ZU2kSQBcAOoz",
        "outputId": "e0926d37-8ce6-4e48-bd47-feacc054fb13"
      },
      "execution_count": null,
      "outputs": [
        {
          "output_type": "stream",
          "name": "stdout",
          "text": [
            "89.76923076923077\n"
          ]
        }
      ]
    },
    {
      "cell_type": "markdown",
      "source": [
        "## Median"
      ],
      "metadata": {
        "id": "8k8BFnm6Avm4"
      }
    },
    {
      "cell_type": "markdown",
      "source": [
        "The median value is the value in the middle, after you have sorted all the values:"
      ],
      "metadata": {
        "id": "pDD8N63BCbLG"
      }
    },
    {
      "cell_type": "markdown",
      "source": [
        "77, 78, 85, 86, 86, 86, 87, ***87,*** 88, 94, 99, 103, 111"
      ],
      "metadata": {
        "id": "HJyMAfOWCh6Z"
      }
    },
    {
      "cell_type": "code",
      "source": [
        "import numpy\n",
        "\n",
        "speed = [99,86,87,88,111,86,103,87,94,78,77,85,86]\n",
        "\n",
        "x = numpy.median(speed)\n",
        "\n",
        "print(x)"
      ],
      "metadata": {
        "colab": {
          "base_uri": "https://localhost:8080/"
        },
        "id": "I1E6w8RQCejj",
        "outputId": "e0b49042-25fc-4d76-fb3a-e97970f360d9"
      },
      "execution_count": null,
      "outputs": [
        {
          "output_type": "stream",
          "name": "stdout",
          "text": [
            "87.0\n"
          ]
        }
      ]
    },
    {
      "cell_type": "markdown",
      "source": [
        "77, 78, 85, 86, 86, ***86, 87,*** 87, 94, 98, 99, 103\n",
        "\n",
        "(86 + 87) / 2 = 86.5"
      ],
      "metadata": {
        "id": "L-8BFBYXCu5p"
      }
    },
    {
      "cell_type": "code",
      "source": [
        "import numpy\n",
        "\n",
        "speed = [99,86,87,88,86,103,87,94,78,77,85,86]\n",
        "\n",
        "x = numpy.median(speed)\n",
        "\n",
        "print(x)"
      ],
      "metadata": {
        "colab": {
          "base_uri": "https://localhost:8080/"
        },
        "id": "flz_SGtlC4O9",
        "outputId": "e8313772-4806-4bff-a400-ac1dac388546"
      },
      "execution_count": null,
      "outputs": [
        {
          "output_type": "stream",
          "name": "stdout",
          "text": [
            "86.5\n"
          ]
        }
      ]
    },
    {
      "cell_type": "markdown",
      "source": [
        "## Mode"
      ],
      "metadata": {
        "id": "ZxHrY5-DC7Gv"
      }
    },
    {
      "cell_type": "markdown",
      "source": [
        "The Mode value is the value that appears the most number of times:"
      ],
      "metadata": {
        "id": "qJvEGHB7C-2-"
      }
    },
    {
      "cell_type": "markdown",
      "source": [
        "99, 86, 87, 88, 111, 86, 103, 87, 94, 78, 77, 85, 86 = 86"
      ],
      "metadata": {
        "id": "Ws7fV_BlC_Qi"
      }
    },
    {
      "cell_type": "code",
      "source": [
        "from scipy import stats\n",
        "\n",
        "speed = [99,86,87,88,111,86,103,87,94,78,77,85,86]\n",
        "\n",
        "x = stats.mode(speed)\n",
        "\n",
        "print(x)"
      ],
      "metadata": {
        "id": "29RD0JGJDD0y"
      },
      "execution_count": null,
      "outputs": []
    }
  ]
}