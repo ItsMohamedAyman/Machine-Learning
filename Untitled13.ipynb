{
  "nbformat": 4,
  "nbformat_minor": 0,
  "metadata": {
    "colab": {
      "provenance": [],
      "collapsed_sections": [
        "tv-qxILtdbr0",
        "r3zL9SwRicFm",
        "TIm0hu9VnLlf",
        "gU5mv4qfdhjs",
        "c3qJBIzBffKQ",
        "MRYia4MkluFV",
        "Y5UsBMNofKr-",
        "UC48fYwFhrj9",
        "igbiQFmOpS8k",
        "MZSoV4CPqE5q",
        "39LBQU44qOU5",
        "Iou5rNaBqiWL",
        "YXYNCknQrgaN",
        "TrXmcUPEtxk8",
        "N9ViqfMyVX5s",
        "xyFnz16gXMYH",
        "7I0ZmNKZZAbz"
      ]
    },
    "kernelspec": {
      "name": "python3",
      "display_name": "Python 3"
    },
    "language_info": {
      "name": "python"
    }
  },
  "cells": [
    {
      "cell_type": "markdown",
      "source": [
        "# **Variables & Data Types**"
      ],
      "metadata": {
        "id": "tv-qxILtdbr0"
      }
    },
    {
      "cell_type": "markdown",
      "source": [
        "A. Numeric Types"
      ],
      "metadata": {
        "id": "NI9QOsoqeem4"
      }
    },
    {
      "cell_type": "code",
      "execution_count": null,
      "metadata": {
        "id": "67vxpmgHc26k"
      },
      "outputs": [],
      "source": [
        "x = 18 # int : Integer (whole number)\n",
        "y = 18.7 # float : Decimal numbers\n",
        "z = 2 + 3j # complex : \tComplex numbers"
      ]
    },
    {
      "cell_type": "markdown",
      "source": [
        "B. Text Type"
      ],
      "metadata": {
        "id": "gEmVw8i-fBjx"
      }
    },
    {
      "cell_type": "code",
      "source": [
        "message = \"Hello, World!\" # str : String (text)"
      ],
      "metadata": {
        "id": "cNBPmutqfCbu"
      },
      "execution_count": null,
      "outputs": []
    },
    {
      "cell_type": "markdown",
      "source": [
        "C. Boolean Type"
      ],
      "metadata": {
        "id": "9m42A_-6fE4U"
      }
    },
    {
      "cell_type": "code",
      "source": [
        "is_valide = True # bool\n",
        "is_student = False # bool"
      ],
      "metadata": {
        "id": "kVPCgfbhfJ-G"
      },
      "execution_count": null,
      "outputs": []
    },
    {
      "cell_type": "markdown",
      "source": [
        "D. Sequence Types"
      ],
      "metadata": {
        "id": "3tW-lBNgffqa"
      }
    },
    {
      "cell_type": "code",
      "source": [
        "fruits = [\"apple\", \"banana\", \"mango\"]  # list : Ordered, changeable, allows duplicates\n",
        "coordinates = (10, 20)                 # tuple : rdered, unchangeable, allows duplicates\n",
        "\n"
      ],
      "metadata": {
        "id": "_DEwItB6fhEO"
      },
      "execution_count": null,
      "outputs": []
    },
    {
      "cell_type": "markdown",
      "source": [
        "E. Set Types\n"
      ],
      "metadata": {
        "id": "KpXG4Es1g0J4"
      }
    },
    {
      "cell_type": "code",
      "source": [
        "unique_ids={101,102,103} # set : Unordered, no duplicates"
      ],
      "metadata": {
        "id": "btS6mJXng06b"
      },
      "execution_count": null,
      "outputs": []
    },
    {
      "cell_type": "markdown",
      "source": [
        "F. Mapping Type"
      ],
      "metadata": {
        "id": "iOtBnBGeha3x"
      }
    },
    {
      "cell_type": "code",
      "source": [
        "student = {\"name\": \"Ali\",\"age\": 20,\"grade\": \"A\"} # dict\t: Key-value pairs"
      ],
      "metadata": {
        "id": "cFcSi4Nghbfb"
      },
      "execution_count": null,
      "outputs": []
    },
    {
      "cell_type": "markdown",
      "source": [
        "# **Working with Strings**"
      ],
      "metadata": {
        "id": "r3zL9SwRicFm"
      }
    },
    {
      "cell_type": "markdown",
      "source": [
        "Escape Characters"
      ],
      "metadata": {
        "id": "VaxMK7wfifVh"
      }
    },
    {
      "cell_type": "code",
      "source": [
        "print(\"Hello \\n World\") # New line\n",
        "print(\"Hello \\t World\") # Tab space\n",
        "print(\"Hello \\\\ World\") # Backslash \\\n",
        "print(\"Hello \\'World\\'\") # Single quote '\n",
        "print(\"Hello \\\"World\\\"\") # Double quote \"\n",
        "\n"
      ],
      "metadata": {
        "colab": {
          "base_uri": "https://localhost:8080/"
        },
        "id": "nej-NonlitL6",
        "outputId": "9b18c938-8e89-459f-e5c4-532df9de899c"
      },
      "execution_count": null,
      "outputs": [
        {
          "output_type": "stream",
          "name": "stdout",
          "text": [
            "Hello \n",
            " World\n",
            "Hello \t World\n",
            "Hello \\ World\n",
            "Hello 'World'\n",
            "Hello \"World\"\n"
          ]
        }
      ]
    },
    {
      "cell_type": "markdown",
      "source": [
        "Useful String Methods"
      ],
      "metadata": {
        "id": "FzyoLnzMj_t_"
      }
    },
    {
      "cell_type": "code",
      "source": [
        "new_message = \"Hello wOrlD, to, mohamed, AYMAN\"\n",
        "print(new_message.upper()) #convert to Uppercase\n",
        "print(new_message.lower()) #convert to lowerrcase\n",
        "\n",
        "print(new_message.capitalize()) #Capitalizes first letter\n",
        "print(new_message.title()) #Capitalizes first letter of each word\n",
        "\n",
        "print(new_message.strip()) #Removes whitespace from both ends\n",
        "print(new_message.replace(\"to\", \"from\")) #Replaces a with b\n",
        "\n",
        "print(new_message.split(\", \")) #Splits string into list\n",
        "print(new_message.join([\"I\",\" Love\", \" You\"])) #Joins list into string\n"
      ],
      "metadata": {
        "colab": {
          "base_uri": "https://localhost:8080/"
        },
        "id": "9IxPxGK4kKkz",
        "outputId": "5f6653ec-2f59-46fd-e8b1-5131fb03d902"
      },
      "execution_count": null,
      "outputs": [
        {
          "output_type": "stream",
          "name": "stdout",
          "text": [
            "HELLO WORLD, TO, MOHAMED, AYMAN\n",
            "hello world, to, mohamed, ayman\n",
            "Hello world, to, mohamed, ayman\n",
            "Hello World, To, Mohamed, Ayman\n",
            "Hello wOrlD, to, mohamed, AYMAN\n",
            "Hello wOrlD, from, mohamed, AYMAN\n",
            "['Hello wOrlD', 'to', 'mohamed', 'AYMAN']\n",
            "IHello wOrlD, to, mohamed, AYMAN LoveHello wOrlD, to, mohamed, AYMAN You\n"
          ]
        }
      ]
    },
    {
      "cell_type": "markdown",
      "source": [
        "# **Working With Numbers**"
      ],
      "metadata": {
        "id": "TIm0hu9VnLlf"
      }
    },
    {
      "cell_type": "markdown",
      "source": [
        "Basic Arithmetic Operations"
      ],
      "metadata": {
        "id": "3t40eOlHbe8O"
      }
    },
    {
      "cell_type": "code",
      "source": [
        "x = 7\n",
        "y = 2\n",
        "\n",
        "print(x + y)   # 9\n",
        "print(x - y)   # 5\n",
        "print(x * y)   # 14\n",
        "print(x / y)   # 3.5\n",
        "print(x // y)  # 3\n",
        "print(x % y)   # 1\n",
        "print(x ** y)  # 49"
      ],
      "metadata": {
        "id": "iNpMInqcnM-i"
      },
      "execution_count": null,
      "outputs": []
    },
    {
      "cell_type": "markdown",
      "source": [
        "Built-in Math Functions"
      ],
      "metadata": {
        "id": "eC_-nSYecLVZ"
      }
    },
    {
      "cell_type": "code",
      "source": [
        "print(abs(-10)) # Absolute value\n",
        "print(pow(2,4)) # x raised to power y\n",
        "print(round(3.5)) # Rounds to nearest integer\n",
        "print(int(3.7)) # Converts to integer\n",
        "print(float(3)) # Converts to float"
      ],
      "metadata": {
        "colab": {
          "base_uri": "https://localhost:8080/"
        },
        "id": "Cw-I6poHcL7M",
        "outputId": "232a1a51-953d-41e4-eed8-09b113580640"
      },
      "execution_count": null,
      "outputs": [
        {
          "output_type": "stream",
          "name": "stdout",
          "text": [
            "10\n",
            "16\n",
            "4\n",
            "3\n",
            "3.0\n"
          ]
        }
      ]
    },
    {
      "cell_type": "markdown",
      "source": [
        "Math Module – for advanced math functions"
      ],
      "metadata": {
        "id": "wP-Keb9pdRvh"
      }
    },
    {
      "cell_type": "code",
      "source": [
        "import math\n",
        "\n",
        "print(math.sqrt(16))      # 4.0\n",
        "print(math.ceil(3.2))     # 4\n",
        "print(math.floor(3.8))    # 3\n",
        "print(math.pi)            # 3.141592653589793\n",
        "print(math.factorial(5))  # 120\n"
      ],
      "metadata": {
        "id": "q0puV5X1dSYO"
      },
      "execution_count": null,
      "outputs": []
    },
    {
      "cell_type": "markdown",
      "source": [
        "Random Numbers"
      ],
      "metadata": {
        "id": "fPitguK4dUMW"
      }
    },
    {
      "cell_type": "code",
      "source": [
        "import random\n",
        "\n",
        "print(random.randint(1, 10))      # Random int from 1 to 10\n",
        "print(random.random())            # Random float from 0 to 1\n"
      ],
      "metadata": {
        "id": "qBPfNw7hdX4k"
      },
      "execution_count": null,
      "outputs": []
    },
    {
      "cell_type": "markdown",
      "source": [
        "# **Getting input from user**"
      ],
      "metadata": {
        "id": "gU5mv4qfdhjs"
      }
    },
    {
      "cell_type": "markdown",
      "source": [
        "Basic Input"
      ],
      "metadata": {
        "id": "vphfryDmdxMt"
      }
    },
    {
      "cell_type": "code",
      "source": [
        "name = input(\"Enter your name: \")\n",
        "print(\"Hello,\", name)\n"
      ],
      "metadata": {
        "id": "b_o66R0Vdwwr"
      },
      "execution_count": null,
      "outputs": []
    },
    {
      "cell_type": "markdown",
      "source": [
        "Getting Numeric Input"
      ],
      "metadata": {
        "id": "0PrzdT3zd4ik"
      }
    },
    {
      "cell_type": "code",
      "source": [
        "age = int(input(\"Enter your age: \"))     # Convert to integer\n",
        "height = float(input(\"Enter your height: \"))  # Convert to float\n",
        "\n",
        "print(\"Age:\", age)\n",
        "print(\"Height:\", height)\n"
      ],
      "metadata": {
        "id": "Uj_Ibok7d7sv"
      },
      "execution_count": null,
      "outputs": []
    },
    {
      "cell_type": "markdown",
      "source": [
        "Multiple Inputs in One Line"
      ],
      "metadata": {
        "id": "99SEyZaGd_Or"
      }
    },
    {
      "cell_type": "code",
      "source": [
        "x, y = input(\"Enter two numbers: \").split(\", \")\n",
        "print(\"x =\", x)\n",
        "print(\"y =\", y)\n"
      ],
      "metadata": {
        "colab": {
          "base_uri": "https://localhost:8080/"
        },
        "id": "JRWVMSoteLTZ",
        "outputId": "6360be44-cff9-426e-c497-a719a2cfbdcd"
      },
      "execution_count": null,
      "outputs": [
        {
          "output_type": "stream",
          "name": "stdout",
          "text": [
            "Enter two numbers: 12, 20\n",
            "x = 12\n",
            "y = 20\n"
          ]
        }
      ]
    },
    {
      "cell_type": "markdown",
      "source": [
        "# **lists**"
      ],
      "metadata": {
        "id": "c3qJBIzBffKQ"
      }
    },
    {
      "cell_type": "markdown",
      "source": [
        "Creating a List\n",
        "\n"
      ],
      "metadata": {
        "id": "I5pyM9hnfixr"
      }
    },
    {
      "cell_type": "code",
      "source": [
        "fruits = [\"apple\", \"banana\", \"mango\"]\n",
        "numbers = [1, 2, 3, 4, 5, 6]\n",
        "mixed = [1, \"hi\", 3.5, True]\n",
        "empty = []\n"
      ],
      "metadata": {
        "id": "IR4GjQrVftef"
      },
      "execution_count": null,
      "outputs": []
    },
    {
      "cell_type": "markdown",
      "source": [
        "Accessing Elements"
      ],
      "metadata": {
        "id": "Ym1c83-AgdrP"
      }
    },
    {
      "cell_type": "code",
      "source": [
        "print(fruits[1])\n",
        "print(numbers[-1])\n",
        "print(mixed[0:2])\n",
        "print(numbers[::3])"
      ],
      "metadata": {
        "colab": {
          "base_uri": "https://localhost:8080/"
        },
        "id": "ivcwXS0Fgf2z",
        "outputId": "7b398c81-6586-4d32-bd5b-aa313c44eaf9"
      },
      "execution_count": null,
      "outputs": [
        {
          "output_type": "stream",
          "name": "stdout",
          "text": [
            "banana\n",
            "6\n",
            "[1, 'hi']\n",
            "[1, 4]\n"
          ]
        }
      ]
    },
    {
      "cell_type": "markdown",
      "source": [
        "List Methods"
      ],
      "metadata": {
        "id": "hjsZshCshbF1"
      }
    },
    {
      "cell_type": "code",
      "source": [
        "fruits.append(\"orange\") # Adds item to the end\n",
        "fruits.insert(1, \"kiwi\") # Inserts x at index i\n",
        "fruits.remove(\"mango\") # Removes first occurrence of x"
      ],
      "metadata": {
        "id": "Fm16DSwjhboz"
      },
      "execution_count": null,
      "outputs": []
    },
    {
      "cell_type": "code",
      "source": [
        "mixed.pop(0) # Removes and returns item at index i\n",
        "numbers.index(2) # Returns index of first x\n",
        "numbers.count(3) # Counts how many times x appears\n",
        "numbers.sort() # Sorts the list in ascending order\n",
        "fruits.reverse() # Reverses the list\n",
        "fruits.clear() # Removes all items"
      ],
      "metadata": {
        "id": "wclskI3rjAW0"
      },
      "execution_count": null,
      "outputs": []
    },
    {
      "cell_type": "markdown",
      "source": [
        "Modifying Items\n"
      ],
      "metadata": {
        "id": "wONE8GEXknxb"
      }
    },
    {
      "cell_type": "code",
      "source": [
        "fruits[1] = \"grape\"    # changes \"banana\" to \"grape\"\n"
      ],
      "metadata": {
        "id": "5_9jGZmkkqL8"
      },
      "execution_count": null,
      "outputs": []
    },
    {
      "cell_type": "markdown",
      "source": [
        "Looping Through a List"
      ],
      "metadata": {
        "id": "7imWJSBakyKs"
      }
    },
    {
      "cell_type": "code",
      "source": [
        "for fruit in fruits:\n",
        "    print(fruit)\n"
      ],
      "metadata": {
        "id": "y5Ru9jWhkypE"
      },
      "execution_count": null,
      "outputs": []
    },
    {
      "cell_type": "markdown",
      "source": [
        "Check if Item Exists"
      ],
      "metadata": {
        "id": "qeJXAYCek1UP"
      }
    },
    {
      "cell_type": "code",
      "source": [
        "if \"apple\" in fruits:\n",
        "    print(\"Yes, apple is in the list\")\n"
      ],
      "metadata": {
        "colab": {
          "base_uri": "https://localhost:8080/"
        },
        "id": "ftj1U1flk0zn",
        "outputId": "4711708d-81a1-4c3b-dccd-be5a52671206"
      },
      "execution_count": null,
      "outputs": [
        {
          "output_type": "stream",
          "name": "stdout",
          "text": [
            "Yes, apple is in the list\n"
          ]
        }
      ]
    },
    {
      "cell_type": "markdown",
      "source": [
        " List Comprehension"
      ],
      "metadata": {
        "id": "jyDgzxBYk6ta"
      }
    },
    {
      "cell_type": "code",
      "source": [
        "squares = [x**2 for x in range(5)]  # [0, 1, 4, 9, 16]\n"
      ],
      "metadata": {
        "id": "mz6U9vmuk9pS"
      },
      "execution_count": null,
      "outputs": []
    },
    {
      "cell_type": "markdown",
      "source": [
        "Combining & Copying Lists"
      ],
      "metadata": {
        "id": "v1f1v01klPwv"
      }
    },
    {
      "cell_type": "code",
      "source": [
        "list1 = [1, 2]\n",
        "list2 = [3, 4]\n",
        "\n",
        "combined = list1 + list2        # [1, 2, 3, 4]\n",
        "copy_list = list1.copy()\n"
      ],
      "metadata": {
        "id": "jZwnHjtNlQZN"
      },
      "execution_count": null,
      "outputs": []
    },
    {
      "cell_type": "markdown",
      "source": [
        "# **Tuples**"
      ],
      "metadata": {
        "id": "MRYia4MkluFV"
      }
    },
    {
      "cell_type": "markdown",
      "source": [
        "Creating a Tuple"
      ],
      "metadata": {
        "id": "GB0n2fGOdmT5"
      }
    },
    {
      "cell_type": "code",
      "source": [
        "my_tuple = (1, 2, 3)\n",
        "colors = (\"red\", \"green\", \"blue\")\n",
        "mixed = (1, \"hi\", 3.5)"
      ],
      "metadata": {
        "id": "OzuCDOKjdbwQ"
      },
      "execution_count": null,
      "outputs": []
    },
    {
      "cell_type": "markdown",
      "source": [
        "Creating a Tuple"
      ],
      "metadata": {
        "id": "KDbmVa6Gdfqm"
      }
    },
    {
      "cell_type": "code",
      "source": [
        "print(colors[1])     # green\n",
        "print(colors[-1])    # blue"
      ],
      "metadata": {
        "colab": {
          "base_uri": "https://localhost:8080/"
        },
        "id": "FVz-KXj_dpVW",
        "outputId": "fd153030-7390-4e0c-ed52-d674cb7088be"
      },
      "execution_count": null,
      "outputs": [
        {
          "output_type": "stream",
          "name": "stdout",
          "text": [
            "green\n",
            "blue\n"
          ]
        }
      ]
    },
    {
      "cell_type": "markdown",
      "source": [
        "Tuple Methods"
      ],
      "metadata": {
        "id": "BwvrhlLbd2pH"
      }
    },
    {
      "cell_type": "code",
      "source": [
        "t = (1, 2, 3, 2, 4, 2)\n",
        "print(t.count(2))     # Returns how many times x appears\n",
        "print(t.index(4))     # Returns the index of first x"
      ],
      "metadata": {
        "colab": {
          "base_uri": "https://localhost:8080/"
        },
        "id": "TNFuj7Erd9js",
        "outputId": "a44e5abc-ae33-4f99-9216-5b1d961dc246"
      },
      "execution_count": null,
      "outputs": [
        {
          "output_type": "stream",
          "name": "stdout",
          "text": [
            "3\n",
            "4\n"
          ]
        }
      ]
    },
    {
      "cell_type": "markdown",
      "source": [
        "Loop Through a Tuple"
      ],
      "metadata": {
        "id": "N5hNmFnMeIiR"
      }
    },
    {
      "cell_type": "code",
      "source": [
        "for color in colors:\n",
        "    print(color)"
      ],
      "metadata": {
        "colab": {
          "base_uri": "https://localhost:8080/"
        },
        "id": "l9mWGx9teJO7",
        "outputId": "17d5f5e9-d1cd-478f-9a13-b57221c309cd"
      },
      "execution_count": null,
      "outputs": [
        {
          "output_type": "stream",
          "name": "stdout",
          "text": [
            "red\n",
            "green\n",
            "blue\n"
          ]
        }
      ]
    },
    {
      "cell_type": "markdown",
      "source": [
        "Tuple Packing and Unpacking"
      ],
      "metadata": {
        "id": "98TmJ-yAePKJ"
      }
    },
    {
      "cell_type": "code",
      "source": [
        "person = (\"Ali\", 20, \"Egypt\")\n",
        "name, age, country = person\n",
        "print(name)    # Ali\n"
      ],
      "metadata": {
        "colab": {
          "base_uri": "https://localhost:8080/"
        },
        "id": "6rig4FsgeUNH",
        "outputId": "caff8df2-f617-48a3-c9d2-d64df1b9a263"
      },
      "execution_count": null,
      "outputs": [
        {
          "output_type": "stream",
          "name": "stdout",
          "text": [
            "Ali\n"
          ]
        }
      ]
    },
    {
      "cell_type": "markdown",
      "source": [
        "# **Sets**"
      ],
      "metadata": {
        "id": "Y5UsBMNofKr-"
      }
    },
    {
      "cell_type": "markdown",
      "source": [
        "1. Creating a Set"
      ],
      "metadata": {
        "id": "xhOu5cmdfS4D"
      }
    },
    {
      "cell_type": "code",
      "source": [
        "fruits = {\"apple\", \"banana\", \"mango\"}\n",
        "numbers = {1, 2, 3, 4, 1, 2, 3, 5}\n",
        "empty_set = set()   # ❌ {} creates a dictionary\n",
        "\n",
        "#Sets automatically remove duplicates.\n",
        "\n",
        "\n"
      ],
      "metadata": {
        "id": "d-9J8QMOfV9S"
      },
      "execution_count": null,
      "outputs": []
    },
    {
      "cell_type": "markdown",
      "source": [
        "🔹 2. Set Characteristics\n",
        "\n",
        "✅ Unordered: No index or position.\n",
        "\n",
        "✅ Mutable: You can add or remove items.\n",
        "\n",
        "✅ Unique items only."
      ],
      "metadata": {
        "id": "9iqFA299flWJ"
      }
    },
    {
      "cell_type": "markdown",
      "source": [
        "3. Basic Set Operations"
      ],
      "metadata": {
        "id": "33nfd1oUfmkj"
      }
    },
    {
      "cell_type": "code",
      "source": [
        "fruits.add(\"orange\") #Add item\n",
        "fruits.update([\"kiwi\", \"melon\"]) # Add multiple\n",
        "print(fruits)\n",
        "fruits.remove(\"apple\") # Remove item\n",
        "fruits.discard(\"apple\") # Remove item safely\n",
        "fruits.pop() # Remove random\n",
        "fruits.clear() # clear all\n",
        "del fruits # Delete set\n",
        "\n"
      ],
      "metadata": {
        "colab": {
          "base_uri": "https://localhost:8080/"
        },
        "id": "wMAmKkHaf2Ql",
        "outputId": "dea9bc4e-492d-4245-e602-818b917eec68"
      },
      "execution_count": null,
      "outputs": [
        {
          "output_type": "stream",
          "name": "stdout",
          "text": [
            "{'kiwi', 'melon', 'banana', 'orange', 'apple', 'mango'}\n"
          ]
        }
      ]
    },
    {
      "cell_type": "markdown",
      "source": [
        "5. Set Operations (Mathematical)"
      ],
      "metadata": {
        "id": "VuwgpW59hdbE"
      }
    },
    {
      "cell_type": "code",
      "source": [
        "a = {1, 2, 3}\n",
        "b = {3, 4, 5}\n",
        "\n",
        "print(a | b)    # Union: {1, 2, 3, 4, 5}\n",
        "print(a & b)    # Intersection: {3}\n",
        "print(a - b)    # Difference: {1, 2}\n",
        "print(a ^ b)    # Symmetric Difference: {1, 2, 4, 5}\n"
      ],
      "metadata": {
        "colab": {
          "base_uri": "https://localhost:8080/"
        },
        "id": "g9D754mFheAk",
        "outputId": "b0c330f7-1a61-4c9e-aa53-d15ba55ed7ce"
      },
      "execution_count": null,
      "outputs": [
        {
          "output_type": "stream",
          "name": "stdout",
          "text": [
            "{1, 2, 3, 4, 5}\n",
            "{3}\n",
            "{1, 2}\n",
            "{1, 2, 4, 5}\n"
          ]
        }
      ]
    },
    {
      "cell_type": "markdown",
      "source": [
        "6. Looping Through a Set"
      ],
      "metadata": {
        "id": "W1xEp8V9hiHP"
      }
    },
    {
      "cell_type": "code",
      "source": [
        "for item in fruits:\n",
        "    print(item)\n"
      ],
      "metadata": {
        "id": "1MEo0R9LhkgF"
      },
      "execution_count": null,
      "outputs": []
    },
    {
      "cell_type": "markdown",
      "source": [
        "# **Dictionaries**"
      ],
      "metadata": {
        "id": "UC48fYwFhrj9"
      }
    },
    {
      "cell_type": "markdown",
      "source": [
        "Creating a Dictionary"
      ],
      "metadata": {
        "id": "Cj4VHUcQiNiU"
      }
    },
    {
      "cell_type": "code",
      "source": [
        "student = {\n",
        "    \"name\": \"Ali\",\n",
        "    \"age\": 20,\n",
        "    \"grade\": \"A\"\n",
        "}\n"
      ],
      "metadata": {
        "id": "atUb40_Riau_"
      },
      "execution_count": null,
      "outputs": []
    },
    {
      "cell_type": "markdown",
      "source": [
        "Accessing Data"
      ],
      "metadata": {
        "id": "cygP-wDTidIn"
      }
    },
    {
      "cell_type": "code",
      "source": [
        "print(student[\"grade\"])         # A\n",
        "print(student.get(\"country\"))   # None (doesn't give error)\n"
      ],
      "metadata": {
        "colab": {
          "base_uri": "https://localhost:8080/"
        },
        "id": "CkTo6aEKihmj",
        "outputId": "e676dc41-d0f9-439a-eeed-e6255658c19c"
      },
      "execution_count": null,
      "outputs": [
        {
          "output_type": "stream",
          "name": "stdout",
          "text": [
            "A\n",
            "Ali\n"
          ]
        }
      ]
    },
    {
      "cell_type": "markdown",
      "source": [
        "Changing Values"
      ],
      "metadata": {
        "id": "HCgK-GkKindQ"
      }
    },
    {
      "cell_type": "code",
      "source": [
        "student[\"grade\"] = \"B\"      # Update value\n",
        "student[\"country\"] = \"Egypt\"  # Add new key-value pair\n"
      ],
      "metadata": {
        "id": "BVcuIxqFioJI"
      },
      "execution_count": null,
      "outputs": []
    },
    {
      "cell_type": "markdown",
      "source": [
        "Dictionary Methods"
      ],
      "metadata": {
        "id": "mhvHfkWkiuxa"
      }
    },
    {
      "cell_type": "code",
      "source": [
        "print(student.keys()) #Returns all keys\n",
        "print(student.values()) #Returns all values\n",
        "print(student.items()) #Returns all key-value pairs\n",
        "print(student.get(\"age\")) #Safe access to value\n",
        "print(student.update({\"age\": 21})) #Update dictionary\n",
        "print(student.pop(\"grade\")) #Remove item by key\n",
        "print(student.clear()) #Removes all items\n"
      ],
      "metadata": {
        "colab": {
          "base_uri": "https://localhost:8080/"
        },
        "id": "aAlmYzWuivb-",
        "outputId": "d443063e-f85d-43b5-958b-877d60c2dab3"
      },
      "execution_count": null,
      "outputs": [
        {
          "output_type": "stream",
          "name": "stdout",
          "text": [
            "dict_keys(['name', 'age', 'grade', 'country'])\n",
            "dict_values(['Ali', 20, 'B', 'Egypt'])\n",
            "dict_items([('name', 'Ali'), ('age', 20), ('grade', 'B'), ('country', 'Egypt')])\n",
            "20\n",
            "None\n",
            "B\n",
            "None\n"
          ]
        }
      ]
    },
    {
      "cell_type": "markdown",
      "source": [
        "Looping Through a Dictionary"
      ],
      "metadata": {
        "id": "4BEHBUs1oaSi"
      }
    },
    {
      "cell_type": "code",
      "source": [
        "# Keys only\n",
        "for key in student:\n",
        "    print(key)\n",
        "\n",
        "# Keys and values\n",
        "for key, value in student.items():\n",
        "    print(key, \":\", value)\n"
      ],
      "metadata": {
        "id": "HrpeBj_6oa02"
      },
      "execution_count": null,
      "outputs": []
    },
    {
      "cell_type": "markdown",
      "source": [
        " Nested Dictionaries"
      ],
      "metadata": {
        "id": "PxSVUbYYocTi"
      }
    },
    {
      "cell_type": "code",
      "source": [
        "students = {\n",
        "    \"student1\": {\"name\": \"Ali\", \"age\": 20},\n",
        "    \"student2\": {\"name\": \"Sara\", \"age\": 19}\n",
        "}\n",
        "\n",
        "print(students[\"student1\"][\"name\"])  # Ali\n"
      ],
      "metadata": {
        "colab": {
          "base_uri": "https://localhost:8080/"
        },
        "id": "ALKDxr9nooRZ",
        "outputId": "8e4d5d61-cd86-4d51-a553-8e165f22c08e"
      },
      "execution_count": null,
      "outputs": [
        {
          "output_type": "stream",
          "name": "stdout",
          "text": [
            "Ali\n"
          ]
        }
      ]
    },
    {
      "cell_type": "markdown",
      "source": [
        "# **if, elif, else**"
      ],
      "metadata": {
        "id": "igbiQFmOpS8k"
      }
    },
    {
      "cell_type": "markdown",
      "source": [
        "Basic if Statement"
      ],
      "metadata": {
        "id": "WAyqh0N8pX3t"
      }
    },
    {
      "cell_type": "code",
      "source": [
        "age = 18\n",
        "\n",
        "if age >= 18:\n",
        "    print(\"You are an adult.\")\n"
      ],
      "metadata": {
        "id": "-pfjhnlfpT4O"
      },
      "execution_count": null,
      "outputs": []
    },
    {
      "cell_type": "markdown",
      "source": [
        " Using else"
      ],
      "metadata": {
        "id": "onouyneBpjDP"
      }
    },
    {
      "cell_type": "code",
      "source": [
        "age = 16\n",
        "\n",
        "if age >= 18:\n",
        "    print(\"You are an adult.\")\n",
        "else:\n",
        "    print(\"You are underage.\")\n"
      ],
      "metadata": {
        "id": "hTtQ2n3qpjwL"
      },
      "execution_count": null,
      "outputs": []
    },
    {
      "cell_type": "markdown",
      "source": [
        "Using elif (else if)"
      ],
      "metadata": {
        "id": "eFKpO0EPplzO"
      }
    },
    {
      "cell_type": "code",
      "source": [
        "mark = 75\n",
        "\n",
        "if mark >= 90:\n",
        "    print(\"Grade A\")\n",
        "elif mark >= 75:\n",
        "    print(\"Grade B\")\n",
        "elif mark >= 50:\n",
        "    print(\"Grade C\")\n",
        "else:\n",
        "    print(\"Fail\")\n"
      ],
      "metadata": {
        "id": "ghWdGBbLpz_T"
      },
      "execution_count": null,
      "outputs": []
    },
    {
      "cell_type": "markdown",
      "source": [
        "### Comparison Operators"
      ],
      "metadata": {
        "id": "MZSoV4CPqE5q"
      }
    },
    {
      "cell_type": "markdown",
      "source": [
        "| Operator | Description      | Example  |\n",
        "| -------- | ---------------- | -------- |\n",
        "| `==`     | Equal to         | `x == y` |\n",
        "| `!=`     | Not equal to     | `x != y` |\n",
        "| `>`      | Greater than     | `x > y`  |\n",
        "| `<`      | Less than        | `x < y`  |\n",
        "| `>=`     | Greater or equal | `x >= y` |\n",
        "| `<=`     | Less or equal    | `x <= y` |\n"
      ],
      "metadata": {
        "id": "463NbrGEp3MD"
      }
    },
    {
      "cell_type": "markdown",
      "source": [
        "### Logical Operators"
      ],
      "metadata": {
        "id": "39LBQU44qOU5"
      }
    },
    {
      "cell_type": "markdown",
      "source": [
        "| Operator | Example            | Meaning                     |\n",
        "| -------- | ------------------ | --------------------------- |\n",
        "| `and`    | `x > 5 and x < 10` | Both conditions True        |\n",
        "| `or`     | `x > 5 or x < 3`   | At least one condition True |\n",
        "| `not`    | `not (x > 10)`     | Reverses condition result   |\n"
      ],
      "metadata": {
        "id": "VMKyWCLqqQkP"
      }
    },
    {
      "cell_type": "markdown",
      "source": [
        "### Short if (Ternary Operator)"
      ],
      "metadata": {
        "id": "Iou5rNaBqiWL"
      }
    },
    {
      "cell_type": "code",
      "source": [
        "age = 20\n",
        "status = \"Adult\" if age >= 18 else \"Minor\"\n",
        "print(status)\n"
      ],
      "metadata": {
        "id": "usZ_SZpuqnHW"
      },
      "execution_count": null,
      "outputs": []
    },
    {
      "cell_type": "markdown",
      "source": [
        "# **Match**"
      ],
      "metadata": {
        "id": "YXYNCknQrgaN"
      }
    },
    {
      "cell_type": "markdown",
      "source": [
        "1. What is match in Python?\n",
        "Introduced in Python 3.10+.\n",
        "\n",
        "Used for pattern matching (like switch-case).\n",
        "\n",
        "Cleaner than using multiple if-elif-else"
      ],
      "metadata": {
        "id": "kL1kSaJerr-k"
      }
    },
    {
      "cell_type": "markdown",
      "source": [
        "2. Basic Syntax of match"
      ],
      "metadata": {
        "id": "h_yJ2zzqrwRy"
      }
    },
    {
      "cell_type": "code",
      "source": [
        "value = 2\n",
        "\n",
        "match value:\n",
        "    case 1:\n",
        "        print(\"One\")\n",
        "    case 2:\n",
        "        print(\"Two\")\n",
        "    case 3:\n",
        "        print(\"Three\")\n",
        "    case _:\n",
        "        print(\"Other number\")\n"
      ],
      "metadata": {
        "colab": {
          "base_uri": "https://localhost:8080/"
        },
        "id": "ZN5xSEecrtCB",
        "outputId": "3277e915-4841-4b9b-a015-ef3da1f3e614"
      },
      "execution_count": null,
      "outputs": [
        {
          "output_type": "stream",
          "name": "stdout",
          "text": [
            "Two\n"
          ]
        }
      ]
    },
    {
      "cell_type": "markdown",
      "source": [
        "3. Example: Menu with match"
      ],
      "metadata": {
        "id": "7EYG0ORgss9G"
      }
    },
    {
      "cell_type": "code",
      "source": [
        "choice = input(\"Enter A, B, or C: \")\n",
        "\n",
        "match choice:\n",
        "    case \"A\":\n",
        "        print(\"Option A selected.\")\n",
        "    case \"B\":\n",
        "        print(\"Option B selected.\")\n",
        "    case \"C\":\n",
        "        print(\"Option C selected.\")\n",
        "    case _:\n",
        "        print(\"Invalid choice.\")\n"
      ],
      "metadata": {
        "id": "-9IxsTKdsvGY"
      },
      "execution_count": null,
      "outputs": []
    },
    {
      "cell_type": "markdown",
      "source": [
        "4. Using Conditions in case"
      ],
      "metadata": {
        "id": "YUMYyPLPs1jk"
      }
    },
    {
      "cell_type": "code",
      "source": [
        "mark = 85\n",
        "\n",
        "match mark:\n",
        "    case m if m >= 90:\n",
        "        print(\"Grade A\")\n",
        "    case m if m >= 75:\n",
        "        print(\"Grade B\")\n",
        "    case m if m >= 50:\n",
        "        print(\"Grade C\")\n",
        "    case _:\n",
        "        print(\"Fail\")\n"
      ],
      "metadata": {
        "colab": {
          "base_uri": "https://localhost:8080/"
        },
        "id": "ee6GypTNs4jy",
        "outputId": "4a1425d6-e4b4-4799-bdb4-06b986420066"
      },
      "execution_count": null,
      "outputs": [
        {
          "output_type": "stream",
          "name": "stdout",
          "text": [
            "Grade B\n"
          ]
        }
      ]
    },
    {
      "cell_type": "markdown",
      "source": [
        "5. Matching Tuples / Lists"
      ],
      "metadata": {
        "id": "l_0CRxyUtAEI"
      }
    },
    {
      "cell_type": "code",
      "source": [
        "point = (0, 1)\n",
        "\n",
        "match point:\n",
        "    case (0, 0):\n",
        "        print(\"Origin\")\n",
        "    case (0, y):\n",
        "        print(f\"Y axis at {y}\")\n",
        "    case (x, 0):\n",
        "        print(f\"X axis at {x}\")\n",
        "    case _:\n",
        "        print(\"Somewhere else\")\n"
      ],
      "metadata": {
        "id": "0NqfgFaUtSOC"
      },
      "execution_count": null,
      "outputs": []
    },
    {
      "cell_type": "markdown",
      "source": [
        "# **Function**"
      ],
      "metadata": {
        "id": "TrXmcUPEtxk8"
      }
    },
    {
      "cell_type": "markdown",
      "source": [
        "1. Defining a Function\n",
        "\n"
      ],
      "metadata": {
        "id": "RuuJFW1ut2x4"
      }
    },
    {
      "cell_type": "code",
      "source": [
        "def greet():\n",
        "    print(\"Hello, Python!\")\n"
      ],
      "metadata": {
        "id": "dTql3Jc_uMdK"
      },
      "execution_count": null,
      "outputs": []
    },
    {
      "cell_type": "markdown",
      "source": [
        "2. Calling a Function"
      ],
      "metadata": {
        "id": "Sq1qdQsYt4Oq"
      }
    },
    {
      "cell_type": "code",
      "source": [
        "greet()\n"
      ],
      "metadata": {
        "id": "65EhJ7C1uM5S"
      },
      "execution_count": null,
      "outputs": []
    },
    {
      "cell_type": "markdown",
      "source": [
        "3. Function with Parameters"
      ],
      "metadata": {
        "id": "u5LJ_Qa3t6Gl"
      }
    },
    {
      "cell_type": "code",
      "source": [
        "def greet(name):\n",
        "    print(\"Hello,\", name)\n",
        "\n",
        "greet(\"Ali\")\n",
        "greet(\"Sara\")\n"
      ],
      "metadata": {
        "id": "hSb53gDiuNW3"
      },
      "execution_count": null,
      "outputs": []
    },
    {
      "cell_type": "markdown",
      "source": [
        "4. Function with Return Value"
      ],
      "metadata": {
        "id": "0CbO4GoZt9Rv"
      }
    },
    {
      "cell_type": "code",
      "source": [
        "def add(a, b):\n",
        "    return a + b\n",
        "\n",
        "result = add(5, 3)\n",
        "print(result)   # Output: 8\n"
      ],
      "metadata": {
        "id": "9TgetxuOuN_N"
      },
      "execution_count": null,
      "outputs": []
    },
    {
      "cell_type": "markdown",
      "source": [
        "5. Default Parameter Value"
      ],
      "metadata": {
        "id": "VbLuMDgut90K"
      }
    },
    {
      "cell_type": "code",
      "source": [
        "def greet(name=\"Guest\"):\n",
        "    print(\"Hello,\", name)\n",
        "\n",
        "greet()             # Hello, Guest\n",
        "greet(\"Omar\")       # Hello, Omar\n"
      ],
      "metadata": {
        "id": "XkGoHW07uOZV"
      },
      "execution_count": null,
      "outputs": []
    },
    {
      "cell_type": "markdown",
      "source": [
        "6. Multiple Return Values"
      ],
      "metadata": {
        "id": "YhwjwL84uBBR"
      }
    },
    {
      "cell_type": "code",
      "source": [
        "def get_stats(numbers):\n",
        "    total = sum(numbers)\n",
        "    count = len(numbers)\n",
        "    return total, count\n",
        "\n",
        "t, c = get_stats([1, 2, 3, 4])\n",
        "print(\"Total:\", t)\n",
        "print(\"Count:\", c)\n"
      ],
      "metadata": {
        "id": "Zq21qeGFuO7p"
      },
      "execution_count": null,
      "outputs": []
    },
    {
      "cell_type": "markdown",
      "source": [
        "7. Keyword Arguments"
      ],
      "metadata": {
        "id": "jjhV9lsNuELD"
      }
    },
    {
      "cell_type": "code",
      "source": [
        "def student_info(name, age):\n",
        "    print(f\"Name: {name}, Age: {age}\")\n",
        "\n",
        "student_info(age=20, name=\"Ali\")\n"
      ],
      "metadata": {
        "id": "69mx4XfHuPR3"
      },
      "execution_count": null,
      "outputs": []
    },
    {
      "cell_type": "markdown",
      "source": [
        "8. Using *args (Multiple Positional Arguments)"
      ],
      "metadata": {
        "id": "58T3YiBtuGvD"
      }
    },
    {
      "cell_type": "code",
      "source": [
        "def add_numbers(*args):\n",
        "    total = sum(args)\n",
        "    print(\"Sum is:\", total)\n",
        "\n",
        "add_numbers(1, 2, 3, 4, 5)\n"
      ],
      "metadata": {
        "id": "f5S6ovrMuP8S"
      },
      "execution_count": null,
      "outputs": []
    },
    {
      "cell_type": "markdown",
      "source": [
        "9. Using **kwargs (Multiple Keyword Arguments)"
      ],
      "metadata": {
        "id": "wUpeD3WEuKNm"
      }
    },
    {
      "cell_type": "code",
      "source": [
        "def show_info(**kwargs):\n",
        "    for key, value in kwargs.items():\n",
        "        print(key, \":\", value)\n",
        "\n",
        "show_info(name=\"Ali\", age=20, grade=\"A\")\n"
      ],
      "metadata": {
        "id": "9SN4VLb8uQSn"
      },
      "execution_count": null,
      "outputs": []
    },
    {
      "cell_type": "markdown",
      "source": [
        "# **While Loops**"
      ],
      "metadata": {
        "id": "N9ViqfMyVX5s"
      }
    },
    {
      "cell_type": "markdown",
      "source": [
        "Basic while Loop Syntax"
      ],
      "metadata": {
        "id": "l9kaa1fnWKDh"
      }
    },
    {
      "cell_type": "code",
      "source": [
        "count = 1\n",
        "\n",
        "while count <= 5:\n",
        "    print(\"Count:\", count)\n",
        "    count += 1  # increase count to avoid infinite loop\n"
      ],
      "metadata": {
        "id": "K_CPtv7JWVpI"
      },
      "execution_count": null,
      "outputs": []
    },
    {
      "cell_type": "markdown",
      "source": [
        "2. Example: Countdown\n",
        "\n"
      ],
      "metadata": {
        "id": "9-EBNb7VWXvx"
      }
    },
    {
      "cell_type": "code",
      "source": [
        "x = 5\n",
        "\n",
        "while x > 0:\n",
        "    print(x)\n",
        "    x -= 1\n",
        "\n",
        "print(\"Blast off!\")\n"
      ],
      "metadata": {
        "id": "XDTqMV86We3i"
      },
      "execution_count": null,
      "outputs": []
    },
    {
      "cell_type": "markdown",
      "source": [
        " 3. Using break to Stop the Loop"
      ],
      "metadata": {
        "id": "UANfxqG0WiDn"
      }
    },
    {
      "cell_type": "code",
      "source": [
        "i = 1\n",
        "\n",
        "while True:\n",
        "    print(i)\n",
        "    if i == 5:\n",
        "        break    # stops the loop\n",
        "    i += 1\n"
      ],
      "metadata": {
        "id": "BErf5SlNWks0"
      },
      "execution_count": null,
      "outputs": []
    },
    {
      "cell_type": "markdown",
      "source": [
        "4. Using continue to Skip Code\n",
        "\n"
      ],
      "metadata": {
        "id": "LaDIIYuLWoNI"
      }
    },
    {
      "cell_type": "code",
      "source": [
        "x = 0\n",
        "\n",
        "while x < 5:\n",
        "    x += 1\n",
        "    if x == 3:\n",
        "        continue   # skip printing 3\n",
        "    print(x)\n"
      ],
      "metadata": {
        "id": "j9ks6drSWrw3"
      },
      "execution_count": null,
      "outputs": []
    },
    {
      "cell_type": "markdown",
      "source": [
        "5. Using else with while"
      ],
      "metadata": {
        "id": "z201NiNtWton"
      }
    },
    {
      "cell_type": "code",
      "source": [
        "num = 3\n",
        "\n",
        "while num > 0:\n",
        "    print(num)\n",
        "    num -= 1\n",
        "else:\n",
        "    print(\"Loop ended\")\n"
      ],
      "metadata": {
        "id": "xt2rheIOWwsG"
      },
      "execution_count": null,
      "outputs": []
    },
    {
      "cell_type": "markdown",
      "source": [
        " 6. Infinite while Loop (Be Careful!)"
      ],
      "metadata": {
        "id": "YaZrXd9NWzcY"
      }
    },
    {
      "cell_type": "code",
      "source": [
        "while True:\n",
        "    print(\"This runs forever unless you use break!\")\n"
      ],
      "metadata": {
        "id": "90TCPGfEWyzg"
      },
      "execution_count": null,
      "outputs": []
    },
    {
      "cell_type": "markdown",
      "source": [
        " 7. Practical Example: Password Checker"
      ],
      "metadata": {
        "id": "K-IM_WuRW39g"
      }
    },
    {
      "cell_type": "code",
      "source": [
        "password = \"\"\n",
        "\n",
        "while password != \"admin\":\n",
        "    password = input(\"Enter password: \")\n",
        "\n",
        "print(\"Access granted!\")\n"
      ],
      "metadata": {
        "id": "TGWdpZzFW6lA"
      },
      "execution_count": null,
      "outputs": []
    },
    {
      "cell_type": "markdown",
      "source": [
        "# **For Loops**"
      ],
      "metadata": {
        "id": "xyFnz16gXMYH"
      }
    },
    {
      "cell_type": "markdown",
      "source": [
        "1. Basic for Loop"
      ],
      "metadata": {
        "id": "V-G31yUQXUZ-"
      }
    },
    {
      "cell_type": "code",
      "source": [
        "for i in range(5):\n",
        "    print(\"Number:\", i)"
      ],
      "metadata": {
        "id": "JSnyYmRsXTn7"
      },
      "execution_count": null,
      "outputs": []
    },
    {
      "cell_type": "markdown",
      "source": [
        "2. Looping Through a List"
      ],
      "metadata": {
        "id": "MCGJPpFiXVSh"
      }
    },
    {
      "cell_type": "code",
      "source": [
        "fruits = [\"apple\", \"banana\", \"mango\"]\n",
        "\n",
        "for fruit in fruits:\n",
        "    print(fruit)"
      ],
      "metadata": {
        "id": "9yGTB9ioXYfK"
      },
      "execution_count": null,
      "outputs": []
    },
    {
      "cell_type": "markdown",
      "source": [
        "3. Using range(start, stop, step)"
      ],
      "metadata": {
        "id": "et7sjtAlXYyN"
      }
    },
    {
      "cell_type": "code",
      "source": [
        "for x in range(1, 11, 2):\n",
        "    print(x)"
      ],
      "metadata": {
        "id": "Z4fm6VXmXbqm"
      },
      "execution_count": null,
      "outputs": []
    },
    {
      "cell_type": "markdown",
      "source": [
        "4. Looping Through a String"
      ],
      "metadata": {
        "id": "rd068sbNXcBN"
      }
    },
    {
      "cell_type": "code",
      "source": [
        "word = \"Python\"\n",
        "\n",
        "for letter in word:\n",
        "    print(letter)"
      ],
      "metadata": {
        "id": "iEd3lRZVXhLQ"
      },
      "execution_count": null,
      "outputs": []
    },
    {
      "cell_type": "markdown",
      "source": [
        "5. Using break to Stop the Loop"
      ],
      "metadata": {
        "id": "YySdnsYnXhkj"
      }
    },
    {
      "cell_type": "code",
      "source": [
        "for i in range(1, 6):\n",
        "    if i == 4:\n",
        "        break\n",
        "    print(i)"
      ],
      "metadata": {
        "id": "rRYc3kEhXj9N"
      },
      "execution_count": null,
      "outputs": []
    },
    {
      "cell_type": "markdown",
      "source": [
        "6. Using continue to Skip"
      ],
      "metadata": {
        "id": "YpI79YFAXkRZ"
      }
    },
    {
      "cell_type": "code",
      "source": [
        "for i in range(1, 6):\n",
        "    if i == 3:\n",
        "        continue\n",
        "    print(i)"
      ],
      "metadata": {
        "id": "tEmP43QqXmjZ"
      },
      "execution_count": null,
      "outputs": []
    },
    {
      "cell_type": "markdown",
      "source": [
        "7. Using else with for"
      ],
      "metadata": {
        "id": "um4d9XWeXm4O"
      }
    },
    {
      "cell_type": "code",
      "source": [
        "for i in range(3):\n",
        "    print(i)\n",
        "else:\n",
        "    print(\"Loop finished!\")"
      ],
      "metadata": {
        "id": "UX9xffRqXpV8"
      },
      "execution_count": null,
      "outputs": []
    },
    {
      "cell_type": "markdown",
      "source": [
        " 8. Nested for Loops"
      ],
      "metadata": {
        "id": "g-N4fE7DXqTK"
      }
    },
    {
      "cell_type": "code",
      "source": [
        "for i in range(1, 4):\n",
        "    for j in range(1, 4):\n",
        "        print(i, \"*\", j, \"=\", i * j)"
      ],
      "metadata": {
        "id": "4TRPt3ZoXs0f"
      },
      "execution_count": null,
      "outputs": []
    },
    {
      "cell_type": "markdown",
      "source": [
        "# **Lambda**"
      ],
      "metadata": {
        "id": "7I0ZmNKZZAbz"
      }
    },
    {
      "cell_type": "markdown",
      "source": [
        "1. Basic Syntax"
      ],
      "metadata": {
        "id": "DJnWjhVTZNYB"
      }
    },
    {
      "cell_type": "code",
      "source": [
        "square = lambda x: x * x\n",
        "print(square(5))   # Output: 25\n"
      ],
      "metadata": {
        "id": "n8IyJA6iZTuA"
      },
      "execution_count": null,
      "outputs": []
    },
    {
      "cell_type": "markdown",
      "source": [
        "2. Examples"
      ],
      "metadata": {
        "id": "skJHtiTZZWNS"
      }
    },
    {
      "cell_type": "code",
      "source": [
        "#1\n",
        "add = lambda a, b: a + b\n",
        "print(add(10, 20))   # Output: 30\n",
        "\n",
        "#2\n",
        "max = lambda a, b: a if a > b else b\n",
        "max(12,14)"
      ],
      "metadata": {
        "colab": {
          "base_uri": "https://localhost:8080/"
        },
        "id": "DAkq2o7VZcRC",
        "outputId": "8e55ed25-ad34-44dd-aff1-7b163929d21d"
      },
      "execution_count": null,
      "outputs": [
        {
          "output_type": "stream",
          "name": "stdout",
          "text": [
            "30\n"
          ]
        },
        {
          "output_type": "execute_result",
          "data": {
            "text/plain": [
              "14"
            ]
          },
          "metadata": {},
          "execution_count": 3
        }
      ]
    },
    {
      "cell_type": "markdown",
      "source": [
        "3. Lambda Inside Functions"
      ],
      "metadata": {
        "id": "OdwDg8N8aG_a"
      }
    },
    {
      "cell_type": "code",
      "source": [
        "def multiplier(n):\n",
        "    return lambda x: x * n\n",
        "\n",
        "double = multiplier(2)\n",
        "print(double(5))   # Output: 10\n"
      ],
      "metadata": {
        "id": "qNDST0L4aHpw"
      },
      "execution_count": null,
      "outputs": []
    },
    {
      "cell_type": "markdown",
      "source": [
        "4. Using Lambda with map(), filter(), and sorted()"
      ],
      "metadata": {
        "id": "rKVlHYOoaJPs"
      }
    },
    {
      "cell_type": "code",
      "source": [
        "# Map()\n",
        "nums = [1, 2, 3, 4]\n",
        "squares = list(map(lambda x: x**2, nums))\n",
        "print(squares)   # [1, 4, 9, 16]\n",
        "\n",
        "# Filter\n",
        "nums = [1, 2, 3, 4, 5, 6]\n",
        "evens = list(filter(lambda x: x % 2 == 0, nums))\n",
        "print(evens)     # [2, 4, 6]\n",
        "\n",
        "# Stored\n",
        "words = [\"apple\", \"banana\", \"cherry\"]\n",
        "sorted_words = sorted(words, key=lambda word: len(word))\n",
        "print(sorted_words)\n",
        "\n"
      ],
      "metadata": {
        "id": "CsF4ND5uaLbL"
      },
      "execution_count": null,
      "outputs": []
    },
    {
      "cell_type": "markdown",
      "source": [
        "5. One-Time Use Lambda"
      ],
      "metadata": {
        "id": "JRfYlahUaNNp"
      }
    },
    {
      "cell_type": "code",
      "source": [
        "print((lambda x, y: x * y)(4, 5))   # Output: 20\n"
      ],
      "metadata": {
        "id": "kB0VCw80akPu"
      },
      "execution_count": null,
      "outputs": []
    },
    {
      "cell_type": "markdown",
      "source": [
        "# **OOP**"
      ],
      "metadata": {
        "id": "0X_emRybbfIW"
      }
    },
    {
      "cell_type": "markdown",
      "source": [
        "# 1. Basic OOP Concepts"
      ],
      "metadata": {
        "id": "nevlqlKXbm8F"
      }
    },
    {
      "cell_type": "markdown",
      "source": [
        "| Concept     | Meaning                                   |\n",
        "| ----------- | ----------------------------------------- |\n",
        "| Class       | Blueprint/template to create objects      |\n",
        "| Object      | Instance of a class                       |\n",
        "| Attribute   | Variable inside a class/object            |\n",
        "| Method      | Function inside a class/object            |\n",
        "| Constructor | `__init__()` method to initialize objects |\n"
      ],
      "metadata": {
        "id": "YFdtUj0nbo7o"
      }
    },
    {
      "cell_type": "markdown",
      "source": [
        "Creating a class"
      ],
      "metadata": {
        "id": "Tlo2vwZrbv6C"
      }
    },
    {
      "cell_type": "code",
      "source": [
        "class Student:\n",
        "    def __init__(self, name, age):\n",
        "        self.name = name\n",
        "        self.age = age\n",
        "\n",
        "    def greet(self):\n",
        "        print(\"Hello,\", self.name)\n"
      ],
      "metadata": {
        "id": "yHzWDcxzbx-9"
      },
      "execution_count": null,
      "outputs": []
    },
    {
      "cell_type": "markdown",
      "source": [
        "Creating an object"
      ],
      "metadata": {
        "id": "8-xud5Hfb5Co"
      }
    },
    {
      "cell_type": "code",
      "source": [
        "s1 = Student(\"Ali\", 20)\n",
        "s1.greet()   # Output: Hello, Ali\n"
      ],
      "metadata": {
        "id": "dkssyUTNcAlH"
      },
      "execution_count": null,
      "outputs": []
    },
    {
      "cell_type": "markdown",
      "source": [
        "Using Attributes and Methods\n",
        "\n"
      ],
      "metadata": {
        "id": "RVDALp3ycDAf"
      }
    },
    {
      "cell_type": "code",
      "source": [
        "print(s1.name)   # Access attribute\n",
        "s1.name = \"Sara\" # Modify attribute\n",
        "s1.greet()       # Call method\n"
      ],
      "metadata": {
        "id": "338-TLlPcMtp"
      },
      "execution_count": null,
      "outputs": []
    },
    {
      "cell_type": "markdown",
      "source": [
        "# 2. Inheritance"
      ],
      "metadata": {
        "id": "J1DtOaTecUW4"
      }
    },
    {
      "cell_type": "markdown",
      "source": [
        "1. Single Inheritance"
      ],
      "metadata": {
        "id": "-GHiC3CNK-nf"
      }
    },
    {
      "cell_type": "code",
      "source": [
        "class Parent:\n",
        "    def speak(self):\n",
        "        print(\"Hello from Parent\")\n",
        "\n",
        "class Child(Parent):  # Child inherits from Parent\n",
        "    def greet(self):\n",
        "        print(\"Hello from Child\")\n",
        "\n",
        "c = Child()\n",
        "c.speak()   # Inherited from Parent\n",
        "c.greet()   # From Child itself\n"
      ],
      "metadata": {
        "id": "4m4-8oW4LIGt"
      },
      "execution_count": null,
      "outputs": []
    },
    {
      "cell_type": "markdown",
      "source": [
        "2. Multilevel Inheritance"
      ],
      "metadata": {
        "id": "2_kg_sRbLKjb"
      }
    },
    {
      "cell_type": "code",
      "source": [
        "class Grandparent:\n",
        "    def method_gp(self):\n",
        "        print(\"I am Grandparent\")\n",
        "\n",
        "class Parent(Grandparent):\n",
        "    def method_p(self):\n",
        "        print(\"I am Parent\")\n",
        "\n",
        "class Child(Parent):\n",
        "    def method_c(self):\n",
        "        print(\"I am Child\")\n",
        "\n",
        "c = Child()\n",
        "c.method_gp()\n",
        "c.method_p()\n",
        "c.method_c()"
      ],
      "metadata": {
        "id": "IWh-v-iCLUQr"
      },
      "execution_count": null,
      "outputs": []
    },
    {
      "cell_type": "markdown",
      "source": [
        "3. Multiple Inheritance"
      ],
      "metadata": {
        "id": "XgNjtpkJLWki"
      }
    },
    {
      "cell_type": "code",
      "source": [
        "class Father:\n",
        "    def job(self):\n",
        "        print(\"Engineer\")\n",
        "\n",
        "class Mother:\n",
        "    def hobby(self):\n",
        "        print(\"Painting\")\n",
        "\n",
        "class Child(Father, Mother):  # Inherits from both Father and Mother\n",
        "    pass\n",
        "\n",
        "c = Child()\n",
        "c.job()\n",
        "c.hobby()\n"
      ],
      "metadata": {
        "id": "kJkJjb8GLagr"
      },
      "execution_count": null,
      "outputs": []
    },
    {
      "cell_type": "markdown",
      "source": [
        "4. Method Overriding"
      ],
      "metadata": {
        "id": "L9cM-4WLLdMt"
      }
    },
    {
      "cell_type": "markdown",
      "source": [
        "Child class can override (change) methods inherited from the parent class."
      ],
      "metadata": {
        "id": "ub4N4zx9LwQY"
      }
    },
    {
      "cell_type": "code",
      "source": [
        "class Parent:\n",
        "    def show(self):\n",
        "        print(\"Parent Method\")\n",
        "\n",
        "class Child(Parent):\n",
        "    def show(self):  # Overriding the method\n",
        "        print(\"Child Method\")\n",
        "\n",
        "c = Child()\n",
        "c.show()  # Calls the overridden method in Child\n"
      ],
      "metadata": {
        "id": "9iTUsVQxLx5r"
      },
      "execution_count": null,
      "outputs": []
    },
    {
      "cell_type": "markdown",
      "source": [
        "5.Using super() to Call Parent Methods"
      ],
      "metadata": {
        "id": "cx7KI90bL2LE"
      }
    },
    {
      "cell_type": "markdown",
      "source": [
        "Use super() inside child class methods to call the parent class’s method."
      ],
      "metadata": {
        "id": "f2TyrPwaL8u0"
      }
    },
    {
      "cell_type": "code",
      "source": [
        "class Parent:\n",
        "    def show(self):\n",
        "        print(\"Message from Parent\")\n",
        "\n",
        "class Child(Parent):\n",
        "    def show(self):\n",
        "        super().show()  # Calls Parent's method\n",
        "        print(\"Message from Child\")\n",
        "\n",
        "c = Child()\n",
        "c.show()\n"
      ],
      "metadata": {
        "id": "crQjSx7VL_EY"
      },
      "execution_count": null,
      "outputs": []
    }
  ]
}